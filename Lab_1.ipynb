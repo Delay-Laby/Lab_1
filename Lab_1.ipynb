{
 "cells": [
  {
   "cell_type": "markdown",
   "metadata": {},
   "source": [
    "## Лабораторная работа 1. Язык программирования Python.\n",
    "\n",
    "\n",
    "1. Дан массив вида [a,b,c,d,e,a,a,b,c]  \n",
    "а) Преобразуйте его в словарь вида  \n",
    "{  \n",
    "   a: [0,5,6],  \n",
    "   b: [1,7],  \n",
    "   ...  \n",
    "   \n",
    "   e: [5]  \n",
    "}\n",
    "\n"
   ]
  },
  {
   "cell_type": "code",
   "execution_count": 6,
   "metadata": {},
   "outputs": [
    {
     "name": "stdout",
     "output_type": "stream",
     "text": [
      "{'a': [0, 5, 6], 'b': [1, 7], 'c': [2, 8], 'd': [3], 'e': [4]}\n"
     ]
    }
   ],
   "source": [
    "import numpy as n\n",
    "\n",
    "def dict_conv(arr):\n",
    "   dict = {value: [i for i in range(0,len(arr)) if arr[i] == value] for index, value in enumerate(arr)}\n",
    "   return dict\n",
    "\n",
    "\n",
    "\n",
    "mass = n.array(['a','b','c','d','e','a','a','b','c'])\n",
    "a = dict_conv(mass)\n",
    "print(a)\n"
   ]
  },
  {
   "cell_type": "markdown",
   "metadata": {},
   "source": [
    "2. Метрика Жаккара (Jaccard similarity) - способ измерения сходства между множествами. Вычисляется как |AB||A B|, т.е. размер пересечения поделить на размер объединения множеств"
   ]
  },
  {
   "cell_type": "code",
   "execution_count": 15,
   "metadata": {},
   "outputs": [
    {
     "name": "stdout",
     "output_type": "stream",
     "text": [
      "{0, 2, 3, 12, 13, 16, 17, 19} {8, 11, 12, 14, 15, 17, 19}\n",
      "12 3\n",
      "Jaccard similarity 0.25\n"
     ]
    }
   ],
   "source": [
    "from random import randint\n",
    "\n",
    "def Jmetric(a,b):\n",
    "    u = 0\n",
    "    ins = 0\n",
    "    for i in a:\n",
    "        for j in b:\n",
    "            if i == j:\n",
    "                ins += 1\n",
    "    u = len(a) + len(b) - ins\n",
    "    print(u,ins)\n",
    "    return ins/u\n",
    "\n",
    "\n",
    "a = {randint(0,20) for i in range(10)}\n",
    "b = {randint(0,20) for i in range(10)}\n",
    "print(a,b)\n",
    "print(f\"Jaccard similarity {Jmetric(a,b)}\")"
   ]
  },
  {
   "cell_type": "code",
   "execution_count": null,
   "metadata": {},
   "outputs": [],
   "source": []
  }
 ],
 "metadata": {
  "kernelspec": {
   "display_name": "Python 3",
   "language": "python",
   "name": "python3"
  },
  "language_info": {
   "codemirror_mode": {
    "name": "ipython",
    "version": 3
   },
   "file_extension": ".py",
   "mimetype": "text/x-python",
   "name": "python",
   "nbconvert_exporter": "python",
   "pygments_lexer": "ipython3",
   "version": "3.8.5"
  }
 },
 "nbformat": 4,
 "nbformat_minor": 4
}
